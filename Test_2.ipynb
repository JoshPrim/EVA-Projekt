{
 "cells": [
  {
   "cell_type": "code",
   "execution_count": 3,
   "metadata": {},
   "outputs": [],
   "source": [
    "import csv\n",
    "import pandas as pd"
   ]
  },
  {
   "cell_type": "code",
   "execution_count": 4,
   "metadata": {},
   "outputs": [],
   "source": [
    "aufzüge = pd.read_csv('Stammdaten_Aufzüge.csv', sep= ';', engine='python')\n",
    "\n",
    "columns = ['Standort Equipment', 'TechnPlatzBezeichng', 'Equipment', 'Equipmentname','Ort','Wirtschaftseinheit','Hersteller',\n",
    "          'Baujahr','ANTRIEBSART','ANZAHL_HALTESTELLEN','ANZAHL_TUEREN_KABINE', 'ANZAHL_TUEREN_SCHACHT', 'FOERDERGESCHWINDIGKEIT',\n",
    "           'FOERDERHOEHE', 'LAGE', 'TRAGKRAFT', 'ERWEITERTE_ORTSANGABE', 'MIN_TUERBREITE', 'KABINENTIEFE', 'KABINENBREITE',\n",
    "           'KABINENHOEHE', 'TUERHOHE', 'FABRIKNUMMER', 'TUERART','GEOKOORDINATERECHTSWERT','GEOKOORDINATEHOCHWERT', 'AUSFTEXTLICHEBESCHREIBUNG']\n",
    "aufzüge.columns = columns\n",
    "aufzüge = aufzüge.drop(0)\n",
    "aufzüge['Equipment'] = aufzüge['Equipment'].astype(str).astype('int64')"
   ]
  },
  {
   "cell_type": "code",
   "execution_count": 8,
   "metadata": {},
   "outputs": [
    {
     "data": {
      "text/plain": [
       "1637"
      ]
     },
     "execution_count": 8,
     "metadata": {},
     "output_type": "execute_result"
    }
   ],
   "source": [
    "len(aufzüge[aufzüge['ANTRIEBSART'] == 'SEIL'])"
   ]
  },
  {
   "cell_type": "code",
   "execution_count": null,
   "metadata": {},
   "outputs": [],
   "source": []
  }
 ],
 "metadata": {
  "kernelspec": {
   "display_name": "Python 3",
   "language": "python",
   "name": "python3"
  },
  "language_info": {
   "codemirror_mode": {
    "name": "ipython",
    "version": 3
   },
   "file_extension": ".py",
   "mimetype": "text/x-python",
   "name": "python",
   "nbconvert_exporter": "python",
   "pygments_lexer": "ipython3",
   "version": "3.6.2"
  }
 },
 "nbformat": 4,
 "nbformat_minor": 2
}
